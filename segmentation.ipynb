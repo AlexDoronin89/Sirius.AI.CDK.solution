{
 "cells": [
  {
   "cell_type": "code",
   "execution_count": null,
   "id": "defb0d33",
   "metadata": {},
   "outputs": [],
   "source": [
    "!pip install GitPython\n",
    "!pip install requests\n",
    "!pip install matplotlib\n",
    "!pip install opencv-python"
   ]
  },
  {
   "cell_type": "code",
   "execution_count": 1,
   "id": "b85d01eb",
   "metadata": {
    "scrolled": false
   },
   "outputs": [],
   "source": [
    "import os\n",
    "from git import Repo\n",
    "import cv2\n",
    "import numpy as np\n",
    "import glob"
   ]
  },
  {
   "cell_type": "code",
   "execution_count": 2,
   "id": "0109e924",
   "metadata": {},
   "outputs": [],
   "source": [
    "# Указываем URL репозитория\n",
    "repo_url = 'https://github.com/CLoDiSasd/Shortsbot.git'\n",
    "# Указываем путь куда хотим склонировать репозиторий\n",
    "local_path = 'C:/Users/clodi/Jupy)/SiriusAI2nd/TC_data/Segrmented_TC_by_Classes_jpg_2'\n",
    "# Изображение\n",
    "image = cv2.imread('C:/Users/clodi/Jupy)/SiriusAI2nd/TC_data/TC_by_Classes_jpg_2/mt201809010000_ir1_pro.jpg')\n",
    "# Папка с тхт\n",
    "txt_folder = 'C:/Users/clodi/Jupy)/SiriusAI2nd/TC_data/TC_by_Classes_txt_2'\n",
    "#jpg папка\n",
    "jpg_folder = 'C:/Users/clodi/Jupy)/SiriusAI2nd/TC_data/TC_by_Classes_jpg_2'\n",
    "# Вывод\n",
    "output_folder = r'C:/Users/clodi/Jupy)/SiriusAI2nd/TC_data/Segrmented_TC_by_Classes_jpg_2'"
   ]
  },
  {
   "cell_type": "code",
   "execution_count": null,
   "id": "eb2e26cc",
   "metadata": {},
   "outputs": [],
   "source": [
    "if os.path.exists(txt_folder):\n",
    "    print(f\"Директория {local_path} существует.\")\n",
    "    \n",
    "    # Проверяем, является ли указанный путь директорией\n",
    "    if os.path.isdir(txt_folder):\n",
    "        print(f\"{local_path} - это директория.\")\n",
    "    else:\n",
    "        print(f\"{local_path} - не является директорией.\")\n",
    "else:\n",
    "    print(f\"Директория {local_path} не существует.\")\n"
   ]
  },
  {
   "cell_type": "code",
   "execution_count": null,
   "id": "499f2d08",
   "metadata": {},
   "outputs": [],
   "source": [
    "#file_name = 'Tfile.txt'\n",
    "#full_path = os.path.join(local_path, file_name)\n",
    "\n",
    "#file_content = \"Привет, это содержимое нового файла.\"\n",
    "\n",
    "# Записываем содержимое в файл\n",
    "#with open(full_path, 'w') as file:\n",
    "#    file.write(file_content)\n",
    "\n",
    "#print(f\"Файл {file_name} успешно сохранен в {local_path}.\")"
   ]
  },
  {
   "cell_type": "code",
   "execution_count": null,
   "id": "e813718e",
   "metadata": {},
   "outputs": [],
   "source": [
    "# Клонируем репозиторий\n",
    "#repo = Repo.clone_from(repo_url, local_path)"
   ]
  },
  {
   "cell_type": "code",
   "execution_count": null,
   "id": "3892b7b3",
   "metadata": {},
   "outputs": [],
   "source": [
    "# Определение координат точки (x, y)\n",
    "#x, y = 858, 1734  # Пример координат\n",
    "#\n",
    "## Ширина и высота прямоугольника\n",
    "#width, height = 500, 500\n",
    "#\n",
    "## Вычисление координат углов прямоугольника\n",
    "#x1, y1 = x - width // 2, y - height // 2\n",
    "#x2, y2 = x + width // 2, y + height // 2\n",
    "#\n",
    "## Цвет и толщина контура\n",
    "#color = (0, 255, 0)  # Зеленый цвет в формате BGR\n",
    "#thickness = 2\n",
    "#\n",
    "## Создание копии изображения для отображения выделения\n",
    "#highlighted_image = image.copy()\n",
    "#\n",
    "## Нарисовать прямоугольник вокруг точки\n",
    "#cv2.rectangle(highlighted_image, (x1, y1), (x2, y2), color, thickness)\n",
    "#\n",
    "## Сохранить копию изображения с выделением\n",
    "#cv2.imwrite('C:/Users/clodi/Jupy)/SiriusAI2nd/TC_data/Segrmented_TC_by_Classes_jpg_1/mt201704240800_ir1_pro.jpg', highlighted_image)"
   ]
  },
  {
   "cell_type": "code",
   "execution_count": null,
   "id": "ac5a477e",
   "metadata": {
    "scrolled": true
   },
   "outputs": [],
   "source": [
    "#file_list = os.listdir(folder_path)\n",
    "\n",
    "#for file_name in file_list:\n",
    "#    if file_name.endswith('.txt'):\n",
    "#        file_path = os.path.join(folder_path, file_name)\n",
    "#        with open(file_path, 'r') as file:\n",
    "#            lines = file.readlines()\n",
    "#\n",
    "#            for line in lines:\n",
    "#                elements = line.strip().split(', ')\n",
    "#\n",
    "#                # Имя класса\n",
    "#                class_name = elements[0]\n",
    "#\n",
    "#                # Координаты\n",
    "#                coordinates = [list(map(int, elements[i:i+4])) for i in range(1, len(elements), 4)]\n",
    "#\n",
    "#                # Обработка каждой пары (класс, координаты)\n",
    "#                for coord_set in coordinates:\n",
    "#                    # Распаковка координат\n",
    "#                    x, y, width, height = coord_set\n",
    "#\n",
    "#                    # Ваша обработка данных\n",
    "#                    print(f\"Файл: {file_name}\")\n",
    "#                    print(\"Class:\", class_name)\n",
    "#                    print(\"Coordinates - x:\", x)\n",
    "#                    print(\"Coordinates - y:\", y)\n",
    "#                    print(\"Width:\", width)\n",
    "#                    print(\"Height:\", height)\n",
    "#                    print()"
   ]
  },
  {
   "cell_type": "code",
   "execution_count": null,
   "id": "a029739a",
   "metadata": {},
   "outputs": [],
   "source": []
  },
  {
   "cell_type": "code",
   "execution_count": null,
   "id": "cb75e429",
   "metadata": {
    "scrolled": true
   },
   "outputs": [],
   "source": [
    "# Получаем список файлов .txt и .jpg\n",
    "txt_files = glob.glob(os.path.join(txt_folder, '*.txt'))\n",
    "jpg_files = glob.glob(os.path.join(jpg_folder, '*.jpg'))\n",
    "\n",
    "# Проходим по каждому .txt файлу\n",
    "for txt_file in txt_files:\n",
    "    file_name = os.path.splitext(os.path.basename(txt_file))[0]\n",
    "\n",
    "    matching_jpg = [jpg for jpg in jpg_files if file_name in jpg]\n",
    "\n",
    "    if matching_jpg:\n",
    "        image = cv2.imread(matching_jpg[0])\n",
    "\n",
    "        with open(txt_file, 'r') as file:\n",
    "            lines = file.readlines()\n",
    "\n",
    "            for line in lines:\n",
    "                elements = line.strip().split(', ')\n",
    "                x, y, width, height = list(map(int, elements[1:]))\n",
    "\n",
    "                x1, y1 = x - width // 2, y - height // 2\n",
    "                x2, y2 = x + width // 2, y + height // 2\n",
    "\n",
    "                color = (0, 255, 0)\n",
    "                thickness = 2\n",
    "\n",
    "                cv2.rectangle(image, (x1, y1), (x2, y2), color, thickness)\n",
    "\n",
    "                output_file = os.path.join(output_folder, f'{file_name}_segmented.jpg')\n",
    "                cv2.imwrite(output_file, image)"
   ]
  },
  {
   "cell_type": "code",
   "execution_count": null,
   "id": "e7236274",
   "metadata": {
    "scrolled": true
   },
   "outputs": [],
   "source": [
    "current_directory = os.getcwd()\n",
    "print(\"Текущая рабочая директория:\", current_directory)"
   ]
  }
 ],
 "metadata": {
  "kernelspec": {
   "display_name": "Python 3 (ipykernel)",
   "language": "python",
   "name": "python3"
  },
  "language_info": {
   "codemirror_mode": {
    "name": "ipython",
    "version": 3
   },
   "file_extension": ".py",
   "mimetype": "text/x-python",
   "name": "python",
   "nbconvert_exporter": "python",
   "pygments_lexer": "ipython3",
   "version": "3.11.5"
  }
 },
 "nbformat": 4,
 "nbformat_minor": 5
}
